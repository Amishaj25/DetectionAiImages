{
 "cells": [
  {
   "cell_type": "markdown",
   "id": "2008bb80",
   "metadata": {
    "papermill": {
     "duration": 0.013108,
     "end_time": "2023-05-16T01:52:24.136458",
     "exception": false,
     "start_time": "2023-05-16T01:52:24.123350",
     "status": "completed"
    },
    "tags": []
   },
   "source": [
    "## Basic Libraries"
   ]
  },
  {
   "cell_type": "code",
   "execution_count": 1,
   "id": "bd3acf67",
   "metadata": {
    "execution": {
     "iopub.execute_input": "2023-05-16T01:52:24.165562Z",
     "iopub.status.busy": "2023-05-16T01:52:24.164304Z",
     "iopub.status.idle": "2023-05-16T01:52:24.179240Z",
     "shell.execute_reply": "2023-05-16T01:52:24.177990Z"
    },
    "papermill": {
     "duration": 0.032141,
     "end_time": "2023-05-16T01:52:24.182055",
     "exception": false,
     "start_time": "2023-05-16T01:52:24.149914",
     "status": "completed"
    },
    "tags": []
   },
   "outputs": [],
   "source": [
    "import pandas as pd\n",
    "import numpy as np\n",
    "import os"
   ]
  },
  {
   "cell_type": "markdown",
   "id": "752e8799",
   "metadata": {
    "papermill": {
     "duration": 0.012655,
     "end_time": "2023-05-16T01:52:24.208022",
     "exception": false,
     "start_time": "2023-05-16T01:52:24.195367",
     "status": "completed"
    },
    "tags": []
   },
   "source": [
    "## Libraries for Image "
   ]
  },
  {
   "cell_type": "code",
   "execution_count": 2,
   "id": "8ef4c1cb",
   "metadata": {},
   "outputs": [],
   "source": [
    "import matplotlib.pyplot as plt\n",
    "import cv2\n",
    "import PIL\n",
    "from PIL import Image"
   ]
  },
  {
   "cell_type": "code",
   "execution_count": 3,
   "id": "86d5b895",
   "metadata": {
    "execution": {
     "iopub.execute_input": "2023-05-16T01:52:24.479985Z",
     "iopub.status.busy": "2023-05-16T01:52:24.479575Z",
     "iopub.status.idle": "2023-05-16T01:52:24.517122Z",
     "shell.execute_reply": "2023-05-16T01:52:24.516016Z"
    },
    "papermill": {
     "duration": 0.055184,
     "end_time": "2023-05-16T01:52:24.520043",
     "exception": false,
     "start_time": "2023-05-16T01:52:24.464859",
     "status": "completed"
    },
    "tags": []
   },
   "outputs": [
    {
     "data": {
      "image/png": "[encoded data removed]",
      "text/plain": [
       "<PIL.JpegImagePlugin.JpegImageFile image mode=RGB size=32x32>"
      ]
     },
     "execution_count": 3,
     "metadata": {},
     "output_type": "execute_result"
    }
   ],
   "source": [
    "PIL.Image.open(\"C:\\\\Users\\\\amish\\\\Downloads\\\\Fake-AI-generated-Image-Detection-main\\\\Fake-AI-generated-Image-Detection-main\\\\real-and-ai\\\\train\\\\FAKE\\\\5992.jpg\")\n"
   ]
  },
  {
   "cell_type": "code",
   "execution_count": 4,
   "id": "b1d3f067",
   "metadata": {
    "execution": {
     "iopub.execute_input": "2023-05-16T01:52:24.548886Z",
     "iopub.status.busy": "2023-05-16T01:52:24.547762Z",
     "iopub.status.idle": "2023-05-16T01:52:24.573754Z",
     "shell.execute_reply": "2023-05-16T01:52:24.572549Z"
    },
    "papermill": {
     "duration": 0.043009,
     "end_time": "2023-05-16T01:52:24.576221",
     "exception": false,
     "start_time": "2023-05-16T01:52:24.533212",
     "status": "completed"
    },
    "tags": []
   },
   "outputs": [
    {
     "data": {
      "text/plain": [
       "(32, 32, 3)"
      ]
     },
     "execution_count": 4,
     "metadata": {},
     "output_type": "execute_result"
    }
   ],
   "source": [
    "image = cv2.imread(\"C:\\\\Users\\\\amish\\\\Downloads\\\\Fake-AI-generated-Image-Detection-main\\\\Fake-AI-generated-Image-Detection-main\\\\real-and-ai\\\\train\\\\FAKE\\\\5992.jpg\")\n",
    "image.shape"
   ]
  },
  {
   "cell_type": "code",
   "execution_count": 5,
   "id": "14fb14ae",
   "metadata": {},
   "outputs": [],
   "source": [
    "train_path = \"C:\\\\Users\\\\amish\\\\Downloads\\\\Fake-AI-generated-Image-Detection-main\\\\Fake-AI-generated-Image-Detection-main\\\\real-and-ai\\\\train\"\n",
    "test_path = \"C:\\\\Users\\\\amish\\\\Downloads\\\\Fake-AI-generated-Image-Detection-main\\\\Fake-AI-generated-Image-Detection-main\\\\real-and-ai\\\\test\""
   ]
  },
  {
   "cell_type": "markdown",
   "id": "e7a7a8fc",
   "metadata": {},
   "source": [
    "## Defining a funciton to get input and output arrays "
   ]
  },
  {
   "cell_type": "code",
   "execution_count": 6,
   "id": "2387db74",
   "metadata": {},
   "outputs": [],
   "source": [
    "\n",
    "def get_X_and_y(path):\n",
    "\n",
    "    X = []\n",
    "    y = []\n",
    "\n",
    "    fake_path = os.path.join(path, 'FAKE')\n",
    "    real_path = os.path.join(path, 'REAL')\n",
    "\n",
    "    print(\"No.of FAKE images present : \", len(os.listdir(fake_path)))\n",
    "    print(\"No.of REAL images present : \", len(os.listdir(real_path)))\n",
    "\n",
    "    for file in os.listdir(fake_path):\n",
    "        img_path = os.path.join(fake_path, file)\n",
    "        img = cv2.imread(img_path)\n",
    "        resized = cv2.resize(img, (32,32)) /255\n",
    "        X.append(resized)\n",
    "        y.append(0)\n",
    "\n",
    "    for file in os.listdir(real_path):\n",
    "        img_path = os.path.join(real_path, file)\n",
    "        img = cv2.imread(img_path)\n",
    "        resized = cv2.resize(img, (32,32)) / 255\n",
    "        X.append(resized)\n",
    "        y.append(1)\n",
    "\n",
    "    X = np.array(X)\n",
    "    y = np.array(y)\n",
    "    print(\"No.of images present in X : \", len(X))\n",
    "\n",
    "    return X, y\n"
   ]
  },
  {
   "cell_type": "markdown",
   "id": "502d042f",
   "metadata": {},
   "source": [
    "### Extracting X_train and y_train for training"
   ]
  },
  {
   "cell_type": "code",
   "execution_count": 7,
   "id": "e291099f",
   "metadata": {},
   "outputs": [
    {
     "name": "stdout",
     "output_type": "stream",
     "text": [
      "No.of FAKE images present :  50000\n",
      "No.of REAL images present :  50000\n",
      "No.of images present in X :  100000\n"
     ]
    }
   ],
   "source": [
    "X_train , y_train = get_X_and_y(train_path)"
   ]
  },
  {
   "cell_type": "markdown",
   "id": "e7103f0f",
   "metadata": {},
   "source": [
    "### Extracting X_test and y_test for testing"
   ]
  },
  {
   "cell_type": "code",
   "execution_count": 8,
   "id": "2c6eb821",
   "metadata": {},
   "outputs": [
    {
     "name": "stdout",
     "output_type": "stream",
     "text": [
      "No.of FAKE images present :  10000\n",
      "No.of REAL images present :  10000\n",
      "No.of images present in X :  20000\n"
     ]
    }
   ],
   "source": [
    "X_test , y_test = get_X_and_y(test_path)"
   ]
  },
  {
   "cell_type": "markdown",
   "id": "afbe97d5",
   "metadata": {},
   "source": [
    "#### Checking the shape of each image"
   ]
  },
  {
   "cell_type": "code",
   "execution_count": 9,
   "id": "b4399e83",
   "metadata": {},
   "outputs": [
    {
     "data": {
      "text/plain": [
       "((32, 32, 3), 0)"
      ]
     },
     "execution_count": 9,
     "metadata": {},
     "output_type": "execute_result"
    }
   ],
   "source": [
    "X_train[0].shape, y_train[0]"
   ]
  },
  {
   "cell_type": "markdown",
   "id": "f035294c",
   "metadata": {},
   "source": [
    "## Designing a model for prediction"
   ]
  },
  {
   "cell_type": "markdown",
   "id": "31d14a46",
   "metadata": {
    "papermill": {
     "duration": 0.017088,
     "end_time": "2023-05-16T02:08:01.283075",
     "exception": false,
     "start_time": "2023-05-16T02:08:01.265987",
     "status": "completed"
    },
    "tags": []
   },
   "source": [
    "#### Importing **\"keras\"** for CNN"
   ]
  },
  {
   "cell_type": "code",
   "execution_count": 10,
   "id": "14ec2ce8",
   "metadata": {},
   "outputs": [],
   "source": [
    "import keras\n",
    "import tensorflow as tf\n",
    "from tensorflow.keras import models , layers"
   ]
  },
  {
   "cell_type": "code",
   "execution_count": 11,
   "id": "5306ca43",
   "metadata": {
    "execution": {
     "iopub.execute_input": "2023-05-16T02:08:01.319286Z",
     "iopub.status.busy": "2023-05-16T02:08:01.318899Z",
     "iopub.status.idle": "2023-05-16T02:18:20.192423Z",
     "shell.execute_reply": "2023-05-16T02:18:20.191546Z"
    },
    "papermill": {
     "duration": 618.894231,
     "end_time": "2023-05-16T02:18:20.194943",
     "exception": false,
     "start_time": "2023-05-16T02:08:01.300712",
     "status": "completed"
    },
    "tags": []
   },
   "outputs": [
    {
     "name": "stdout",
     "output_type": "stream",
     "text": [
      "Epoch 1/2\n",
      "3125/3125 [==============================] - 130s 41ms/step - loss: 0.3829 - accuracy: 0.8274\n",
      "Epoch 2/2\n",
      "3125/3125 [==============================] - 127s 41ms/step - loss: 0.2618 - accuracy: 0.8928\n"
     ]
    },
    {
     "data": {
      "text/plain": [
       "<keras.src.callbacks.History at 0x1b26cd32c50>"
      ]
     },
     "execution_count": 11,
     "metadata": {},
     "output_type": "execute_result"
    }
   ],
   "source": [
    "model = models.Sequential([\n",
    "    layers.Conv2D(filters = 80 , kernel_size = (3,3),activation = 'relu',input_shape= (32,32,3)),\n",
    "    layers.MaxPool2D((2,2)),\n",
    "    layers.Conv2D(filters = 40 , kernel_size = (3,3),activation = 'relu'),\n",
    "    layers.MaxPool2D((2,2)),\n",
    "    layers.Conv2D(filters = 20 , kernel_size = (3,3),activation = 'relu'),\n",
    "    layers.MaxPool2D((2,2)),\n",
    "    \n",
    "    layers.Flatten(),\n",
    "    layers.Dense(10,activation = 'relu'),\n",
    "    layers.Dense(2,activation = 'sigmoid'),\n",
    "                         ])\n",
    "\n",
    "model.compile(\n",
    "    optimizer = 'adam',\n",
    "    loss= 'sparse_categorical_crossentropy',\n",
    "    metrics = ['accuracy']\n",
    "             )\n",
    "\n",
    "model.fit(X_train,y_train, epochs = 2)\n"
   ]
  },
  {
   "cell_type": "code",
   "execution_count": 12,
   "id": "878d8056",
   "metadata": {
    "execution": {
     "iopub.execute_input": "2023-05-16T02:18:21.738827Z",
     "iopub.status.busy": "2023-05-16T02:18:21.738132Z",
     "iopub.status.idle": "2023-05-16T02:18:28.870939Z",
     "shell.execute_reply": "2023-05-16T02:18:28.869951Z"
    },
    "papermill": {
     "duration": 7.944021,
     "end_time": "2023-05-16T02:18:28.873566",
     "exception": false,
     "start_time": "2023-05-16T02:18:20.929545",
     "status": "completed"
    },
    "tags": []
   },
   "outputs": [
    {
     "name": "stdout",
     "output_type": "stream",
     "text": [
      "625/625 [==============================] - 9s 15ms/step - loss: 0.2273 - accuracy: 0.9090\n"
     ]
    },
    {
     "data": {
      "text/plain": [
       "[0.22730082273483276, 0.9090499877929688]"
      ]
     },
     "execution_count": 12,
     "metadata": {},
     "output_type": "execute_result"
    }
   ],
   "source": [
    "model.evaluate(X_test,y_test)"
   ]
  },
  {
   "cell_type": "code",
   "execution_count": 13,
   "id": "11cc7ccc",
   "metadata": {
    "execution": {
     "iopub.execute_input": "2023-05-16T02:18:30.357528Z",
     "iopub.status.busy": "2023-05-16T02:18:30.356831Z",
     "iopub.status.idle": "2023-05-16T02:18:37.597581Z",
     "shell.execute_reply": "2023-05-16T02:18:37.596237Z"
    },
    "papermill": {
     "duration": 7.988,
     "end_time": "2023-05-16T02:18:37.600498",
     "exception": false,
     "start_time": "2023-05-16T02:18:29.612498",
     "status": "completed"
    },
    "tags": []
   },
   "outputs": [
    {
     "name": "stdout",
     "output_type": "stream",
     "text": [
      "625/625 [==============================] - 9s 14ms/step\n"
     ]
    }
   ],
   "source": [
    "y_pred_prob  = model.predict(X_test)"
   ]
  },
  {
   "cell_type": "code",
   "execution_count": 14,
   "id": "2cedc8d1",
   "metadata": {},
   "outputs": [
    {
     "data": {
      "text/plain": [
       "array([[0.96966326, 0.23719618],\n",
       "       [0.91922027, 0.4099505 ],\n",
       "       [0.85201555, 0.50165457],\n",
       "       [0.9814065 , 0.16873571],\n",
       "       [0.92752284, 0.30953562]], dtype=float32)"
      ]
     },
     "execution_count": 14,
     "metadata": {},
     "output_type": "execute_result"
    }
   ],
   "source": [
    "y_pred_prob[:5]"
   ]
  },
  {
   "cell_type": "code",
   "execution_count": 15,
   "id": "e3f5ba82",
   "metadata": {
    "execution": {
     "iopub.execute_input": "2023-05-16T02:18:39.186015Z",
     "iopub.status.busy": "2023-05-16T02:18:39.185324Z",
     "iopub.status.idle": "2023-05-16T02:18:39.276918Z",
     "shell.execute_reply": "2023-05-16T02:18:39.275636Z"
    },
    "papermill": {
     "duration": 0.848316,
     "end_time": "2023-05-16T02:18:39.279666",
     "exception": false,
     "start_time": "2023-05-16T02:18:38.431350",
     "status": "completed"
    },
    "tags": []
   },
   "outputs": [
    {
     "data": {
      "text/plain": [
       "[0, 0, 0, 0, 0]"
      ]
     },
     "execution_count": 15,
     "metadata": {},
     "output_type": "execute_result"
    }
   ],
   "source": [
    "y_pred = [np.argmax(i) for i in y_pred_prob]\n",
    "y_pred[:5]"
   ]
  },
  {
   "cell_type": "markdown",
   "id": "6b6c3b96",
   "metadata": {
    "papermill": {
     "duration": 0.754485,
     "end_time": "2023-05-16T02:18:40.798518",
     "exception": false,
     "start_time": "2023-05-16T02:18:40.044033",
     "status": "completed"
    },
    "tags": []
   },
   "source": [
    "## Classification Report"
   ]
  },
  {
   "cell_type": "code",
   "execution_count": 16,
   "id": "19e35551",
   "metadata": {
    "execution": {
     "iopub.execute_input": "2023-05-16T02:18:42.388632Z",
     "iopub.status.busy": "2023-05-16T02:18:42.387900Z",
     "iopub.status.idle": "2023-05-16T02:18:43.346602Z",
     "shell.execute_reply": "2023-05-16T02:18:43.345426Z"
    },
    "papermill": {
     "duration": 1.719765,
     "end_time": "2023-05-16T02:18:43.348933",
     "exception": false,
     "start_time": "2023-05-16T02:18:41.629168",
     "status": "completed"
    },
    "tags": []
   },
   "outputs": [
    {
     "name": "stdout",
     "output_type": "stream",
     "text": [
      "Classification Report     : \n",
      "\n",
      "\n",
      "               precision    recall  f1-score   support\n",
      "\n",
      "           0       0.92      0.90      0.91     10000\n",
      "           1       0.90      0.92      0.91     10000\n",
      "\n",
      "    accuracy                           0.91     20000\n",
      "   macro avg       0.91      0.91      0.91     20000\n",
      "weighted avg       0.91      0.91      0.91     20000\n",
      "\n"
     ]
    }
   ],
   "source": [
    "from sklearn.metrics import classification_report\n",
    "\n",
    "print('Classification Report     : \\n\\n\\n' , classification_report(y_test,y_pred))"
   ]
  },
  {
   "cell_type": "code",
   "execution_count": 17,
   "id": "6cf139e8",
   "metadata": {},
   "outputs": [
    {
     "data": {
      "image/png": "[encoded data removed]",
      "text/plain": [
       "<Figure size 640x480 with 1 Axes>"
      ]
     },
     "metadata": {},
     "output_type": "display_data"
    },
    {
     "name": "stdout",
     "output_type": "stream",
     "text": [
      "1/1 [==============================] - 0s 132ms/step\n",
      "Real Image\n"
     ]
    }
   ],
   "source": [
    "# write a function to check the model on any image and print the result as if 0 then fake else real\n",
    "\n",
    "def check_image(image):\n",
    "    img = cv2.imread(image)\n",
    "    plt.imshow(img)\n",
    "    plt.show()\n",
    "    img = cv2.resize(img,(32,32))\n",
    "    img = img/255\n",
    "    img = np.expand_dims(img,axis = 0)\n",
    "    if np.argmax(model.predict(img)) == 0:\n",
    "        print('Fake Image')\n",
    "    else:\n",
    "        print('Real Image')\n",
    "\n",
    "check_image(\"C:\\\\Users\\\\amish\\\\Downloads\\\\Fake-AI-generated-Image-Detection-main\\\\Fake-AI-generated-Image-Detection-main\\\\real-and-ai\\\\test\\\\REAL\\\\0000 (2).jpg\")\n",
    "\n"
   ]
  },
  {
   "cell_type": "markdown",
   "id": "b5723beb",
   "metadata": {
    "papermill": {
     "duration": 0.831854,
     "end_time": "2023-05-16T02:18:44.943762",
     "exception": false,
     "start_time": "2023-05-16T02:18:44.111908",
     "status": "completed"
    },
    "tags": []
   },
   "source": []
  },
  {
   "cell_type": "markdown",
   "id": "8ccbb5cd",
   "metadata": {
    "papermill": {
     "duration": 0.758907,
     "end_time": "2023-05-16T02:18:50.609777",
     "exception": false,
     "start_time": "2023-05-16T02:18:49.850870",
     "status": "completed"
    },
    "tags": []
   },
   "source": [
    "## **THANK YOU !**"
   ]
  },
  {
   "cell_type": "code",
   "execution_count": 18,
   "id": "a373172b",
   "metadata": {},
   "outputs": [],
   "source": [
    "#tf.keras.models.save_model(model,'model.hdf5')"
   ]
  },
  {
   "cell_type": "code",
   "execution_count": 19,
   "id": "2f7fdf5b",
   "metadata": {},
   "outputs": [
    {
     "name": "stdout",
     "output_type": "stream",
     "text": [
      "Overwriting app.py\n"
     ]
    }
   ],
   "source": [
    "%%writefile app.py\n",
    "\n",
    "import streamlit as st\n",
    "import tensorflow as tf\n",
    "import cv2\n",
    "\n",
    "st.set_option('deprecation.showfileUploaderEncoding', False)\n",
    "@st.cache(allow_output_mutation=True)\n",
    "def load_model():\n",
    "    model = tf.keras.models.load_model('model.hdf5')\n",
    "    return model\n",
    "model = load_model()\n",
    "st.write(\"\"\"\n",
    "            # Fake Image Detection\n",
    "            \"\"\"\n",
    "            )\n",
    "\n",
    "file = st.file_uploader(\"Please upload an image file\", type=[\"jpg\", \"png\"])\n",
    "\n",
    "import cv2\n",
    "\n",
    "from PIL import Image, ImageOps\n",
    "import numpy as np\n",
    "def import_and_predict(image_data, model):\n",
    "\n",
    "        size = (32,32)\n",
    "        image = ImageOps.fit(image_data, size, Image.LANCZOS)\n",
    "        img = np.asarray(image)\n",
    "        img_reshape = img[np.newaxis,...]\n",
    "        prediction = model.predict(img_reshape)\n",
    "        return prediction\n",
    "if file is None:\n",
    "    st.text(\"Please upload an image file\")\n",
    "else:\n",
    "    image = Image.open(file)\n",
    "    st.image(image, use_column_width=True)\n",
    "    predictions = import_and_predict(image, model)\n",
    "    class_names = ['Fake','Real']\n",
    "    string = \"This image most likely is: \"+class_names[np.argmax(predictions)]\n",
    "    st.success(string)\n",
    "    "
   ]
  },
  {
   "cell_type": "code",
   "execution_count": 20,
   "id": "df26e88c",
   "metadata": {},
   "outputs": [],
   "source": [
    "#streamlit run app.py\n",
    "# Save model architecture to JSON\n",
    "model_json = model.to_json()\n",
    "with open('model.json', 'w') as json_file:\n",
    "    json_file.write(model_json)\n",
    "\n",
    "# Save model weights to HDF5\n",
    "model.save_weights('model_weights.h5')\n"
   ]
  },
  {
   "cell_type": "code",
   "execution_count": 21,
   "id": "a37544f0",
   "metadata": {},
   "outputs": [],
   "source": [
    "from tensorflow.keras.models import model_from_json\n",
    "\n",
    "# Load the model architecture from JSON\n",
    "with open('model.json', 'r') as json_file:\n",
    "    model_json = json_file.read()\n",
    "loaded_model = model_from_json(model_json)\n",
    "\n",
    "# Load the model weights\n",
    "loaded_model.load_weights('model_weights.h5')\n"
   ]
  },
  {
   "cell_type": "code",
   "execution_count": 22,
   "id": "fef75f30",
   "metadata": {},
   "outputs": [
    {
     "name": "stdout",
     "output_type": "stream",
     "text": [
      "INFO:tensorflow:Assets written to: C://Users//amish//Desktop/assets\n"
     ]
    },
    {
     "name": "stderr",
     "output_type": "stream",
     "text": [
      "INFO:tensorflow:Assets written to: C://Users//amish//Desktop/assets\n"
     ]
    }
   ],
   "source": [
    "export_path = \"C://Users//amish//Desktop\"\n",
    "import keras\n",
    "import tensorflow as tf\n",
    "from tensorflow.keras import models , layers\n",
    "# Save the model as a SavedModel\n",
    "tf.saved_model.save(model, export_path)"
   ]
  },
  {
   "cell_type": "code",
   "execution_count": 23,
   "id": "4dc59970",
   "metadata": {},
   "outputs": [
    {
     "ename": "NameError",
     "evalue": "name 'hi' is not defined",
     "output_type": "error",
     "traceback": [
      "\u001b[1;31m---------------------------------------------------------------------------\u001b[0m",
      "\u001b[1;31mNameError\u001b[0m                                 Traceback (most recent call last)",
      "Cell \u001b[1;32mIn [23], line 1\u001b[0m\n\u001b[1;32m----> 1\u001b[0m \u001b[43mhi\u001b[49m\n",
      "\u001b[1;31mNameError\u001b[0m: name 'hi' is not defined"
     ]
    }
   ],
   "source": [
    "hi"
   ]
  },
  {
   "cell_type": "code",
   "execution_count": null,
   "id": "14c971d1",
   "metadata": {},
   "outputs": [],
   "source": []
  }
 ],
 "metadata": {
  "kernelspec": {
   "display_name": "Python 3 (ipykernel)",
   "language": "python",
   "name": "python3"
  },
  "language_info": {
   "codemirror_mode": {
    "name": "ipython",
    "version": 3
   },
   "file_extension": ".py",
   "mimetype": "text/x-python",
   "name": "python",
   "nbconvert_exporter": "python",
   "pygments_lexer": "ipython3",
   "version": "3.10.7"
  },
  "papermill": {
   "default_parameters": {},
   "duration": 1602.885985,
   "end_time": "2023-05-16T02:18:54.287650",
   "environment_variables": {},
   "exception": null,
   "input_path": "__notebook__.ipynb",
   "output_path": "__notebook__.ipynb",
   "parameters": {},
   "start_time": "2023-05-16T01:52:11.401665",
   "version": "2.4.0"
  }
 },
 "nbformat": 4,
 "nbformat_minor": 5
}
